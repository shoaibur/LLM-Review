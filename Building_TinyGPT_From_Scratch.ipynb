{
  "nbformat": 4,
  "nbformat_minor": 0,
  "metadata": {
    "colab": {
      "provenance": [],
      "gpuType": "T4"
    },
    "kernelspec": {
      "name": "python3",
      "display_name": "Python 3"
    },
    "language_info": {
      "name": "python"
    },
    "accelerator": "GPU"
  },
  "cells": [
    {
      "cell_type": "markdown",
      "source": [
        "Here, I give a demo on how to build a GPT model from scratch. The goal here is to provide a better understanding of the building blocks of the current GPT models.\n",
        "\n",
        "I used Google Colab for this demo. Mount the notebook to Google Drive and setup the runtime to GPU: Runtime > Chante runtime type > GPU. Install required packages."
      ],
      "metadata": {
        "id": "ZTGI0vk0WB-M"
      }
    },
    {
      "cell_type": "code",
      "execution_count": 1,
      "metadata": {
        "colab": {
          "base_uri": "https://localhost:8080/"
        },
        "id": "sa5UjASpFGGd",
        "outputId": "f4372300-fead-4dfd-ddcf-4383994db8e5"
      },
      "outputs": [
        {
          "output_type": "stream",
          "name": "stdout",
          "text": [
            "/content/drive/MyDrive\n"
          ]
        }
      ],
      "source": [
        "%cd /content/drive/MyDrive/\n",
        "\n",
        "!pip install -q -U accelerate transformers torch torchvision"
      ]
    },
    {
      "cell_type": "code",
      "source": [
        "import torch\n",
        "import torch.nn as nn\n",
        "import torch.nn.functional as F\n",
        "import torch.optim as optim\n",
        "import numpy as np"
      ],
      "metadata": {
        "id": "XCZM9wOQFubz"
      },
      "execution_count": 2,
      "outputs": []
    },
    {
      "cell_type": "code",
      "source": [
        "# Set seed for reproducibility\n",
        "seed_value = 11\n",
        "torch.manual_seed(seed_value)\n",
        "np.random.seed(seed_value)"
      ],
      "metadata": {
        "id": "0Kr4pmlWcArl"
      },
      "execution_count": 3,
      "outputs": []
    },
    {
      "cell_type": "markdown",
      "source": [
        "First, let's create some classes:\n",
        "- **PositionalEncoding**: Adds positional information to input sequences.\n",
        "- **MultiHeadSelfAttention**: Implements the multi-head self-attention mechanism, splitting the input into multiple heads, computing attention scores, and then aggregating the results.\n",
        "- **FeedForward**: A two-layer feed-forward neural network used after the attention mechanism.\n",
        "- **TinyGPT**: Defines the main model structure, which comprises three self-attention layers, a feed-forward layer, and an output layer to predict next token probabilities. The model leverages embeddings for input tokens and integrates positional encodings.\n"
      ],
      "metadata": {
        "id": "A1ZzaEGeUvt7"
      }
    },
    {
      "cell_type": "code",
      "source": [
        "class PositionalEncoding(nn.Module):\n",
        "    def __init__(self, d_model, max_len=5000):\n",
        "        super(PositionalEncoding, self).__init__()\n",
        "        self.pe = torch.randn(1, max_len, d_model)\n",
        "        self.register_buffer(\"pe_buffer\", self.pe)  # Using register_buffer so it's automatically moved with .to(device)\n",
        "\n",
        "    def forward(self, x):\n",
        "        return x + self.pe_buffer[:, :x.size(1), :]\n",
        "\n",
        "\n",
        "class MultiHeadSelfAttention(nn.Module):\n",
        "    def __init__(self, d_model, num_heads):\n",
        "        super(MultiHeadSelfAttention, self).__init__()\n",
        "        assert d_model % num_heads == 0\n",
        "        self.d_head = d_model // num_heads\n",
        "        self.num_heads = num_heads\n",
        "        self.query = nn.Linear(d_model, d_model)\n",
        "        self.key = nn.Linear(d_model, d_model)\n",
        "        self.value = nn.Linear(d_model, d_model)\n",
        "        self.fc_out = nn.Linear(d_model, d_model)\n",
        "\n",
        "    def forward(self, x):\n",
        "        batch_size = x.size(0)\n",
        "        Q = self.query(x)\n",
        "        K = self.key(x)\n",
        "        V = self.value(x)\n",
        "        Q = Q.view(batch_size, -1, self.num_heads, self.d_head).permute(0, 2, 1, 3)\n",
        "        K = K.view(batch_size, -1, self.num_heads, self.d_head).permute(0, 2, 1, 3)\n",
        "        V = V.view(batch_size, -1, self.num_heads, self.d_head).permute(0, 2, 1, 3)\n",
        "        attn_score = torch.matmul(Q, K.permute(0, 1, 3, 2)) / self.d_head**0.5\n",
        "        attn_prob = F.softmax(attn_score, dim=-1)\n",
        "        attn_output = torch.matmul(attn_prob, V).permute(0, 2, 1, 3).contiguous().view(batch_size, -1, self.num_heads * self.d_head)\n",
        "        return self.fc_out(attn_output)\n",
        "\n",
        "class FeedForward(nn.Module):\n",
        "    def __init__(self, d_model, d_ff):\n",
        "        super(FeedForward, self).__init__()\n",
        "        self.fc1 = nn.Linear(d_model, d_ff)\n",
        "        self.fc2 = nn.Linear(d_ff, d_model)\n",
        "\n",
        "    def forward(self, x):\n",
        "        return self.fc2(F.relu(self.fc1(x)))\n",
        "\n",
        "class TinyGPT(nn.Module):\n",
        "    def __init__(self, vocab_size, d_model=16, num_heads=8, d_ff=64, max_len=512):\n",
        "        super(TinyGPT, self).__init__()\n",
        "        self.embedding = nn.Embedding(vocab_size, d_model)\n",
        "        self.position_enc = PositionalEncoding(d_model, max_len)\n",
        "\n",
        "        self.attn1 = MultiHeadSelfAttention(d_model, num_heads)\n",
        "        self.norm1 = nn.LayerNorm(d_model)\n",
        "\n",
        "        self.attn2 = MultiHeadSelfAttention(d_model, num_heads)\n",
        "        self.norm2 = nn.LayerNorm(d_model)\n",
        "\n",
        "        self.attn3 = MultiHeadSelfAttention(d_model, num_heads)\n",
        "        self.norm3 = nn.LayerNorm(d_model)\n",
        "\n",
        "        self.feed_forward = FeedForward(d_model, d_ff)\n",
        "        self.norm_ff = nn.LayerNorm(d_model)\n",
        "\n",
        "        self.fc_out = nn.Linear(d_model, vocab_size)  # To get the next token probabilities\n",
        "\n",
        "    def forward(self, tokens):\n",
        "        embeddings = self.embedding(tokens)\n",
        "        x = embeddings + self.position_enc(embeddings)\n",
        "\n",
        "        attn1_out = self.norm1(x + self.attn1(x))\n",
        "        attn2_out = self.norm2(attn1_out + self.attn2(attn1_out))\n",
        "        attn3_out = self.norm3(attn2_out + self.attn3(attn2_out))\n",
        "\n",
        "        ff_out = self.norm_ff(attn3_out + self.feed_forward(attn3_out))\n",
        "\n",
        "        return self.fc_out(ff_out)  # Return token probabilities\n",
        "\n"
      ],
      "metadata": {
        "id": "yJKzFBRRFNFR"
      },
      "execution_count": 4,
      "outputs": []
    },
    {
      "cell_type": "markdown",
      "source": [
        "Now, the model is defined. It's time to train the model. Before start training, however, we need to prepare the data, initialize the model with appropriate loss function and optimizer, and then train. Here, I used some toy data to complete the demo.\n",
        "\n",
        "- Setting up the device for computation (`CUDA`).\n",
        "- **create_input_target_pairs**: Function to generate input-target pairs for token sequences.\n",
        "- Tokenization of a list of example sentences and vocabulary building.\n",
        "- Conversion of sentences to token IDs and padding them.\n",
        "- Model initialization (`TinyGPT`), loss function (`CrossEntropyLoss`), and optimizer (`Adam`) setup.\n",
        "- Training loop for the model with periodic loss reporting.\n"
      ],
      "metadata": {
        "id": "MZEFdK-0VJqc"
      }
    },
    {
      "cell_type": "code",
      "source": [
        "device = torch.device(\"cuda:0\")\n",
        "\n",
        "# Define a function to create input-target pairs for language modeling\n",
        "def create_input_target_pairs(tokenized_sentences):\n",
        "    inputs = [sentence[:-1] for sentence in tokenized_sentences]\n",
        "    targets = [sentence[1:] for sentence in tokenized_sentences]\n",
        "    return inputs, targets\n",
        "\n",
        "# Example sentences\n",
        "sentences = [\n",
        "    \"Hello world\",\n",
        "    \"Machine learning is fun\",\n",
        "    \"Tiny models are cute\",\n",
        "    \"GPT is a transformer model\",\n",
        "    \"BERT and GPT are popular\",\n",
        "]\n",
        "\n",
        "# Building a vocabulary from these sentences\n",
        "vocab = set(word for sentence in sentences for word in sentence.split())\n",
        "vocab_size = len(vocab)\n",
        "\n",
        "# Create input and target sequences\n",
        "max_len = 5 # Set the max words in response\n",
        "word2id = {word: idx for idx, word in enumerate(vocab)}\n",
        "id2word = {idx: word for word, idx in word2id.items()}\n",
        "tokenized_sentences = [[word2id[word] for word in sentence.split()] for sentence in sentences]\n",
        "padded_sentences = [sentence + [0]*(max_len - len(sentence)) for sentence in tokenized_sentences]\n",
        "input_sequences, target_sequences = create_input_target_pairs(padded_sentences)\n",
        "\n",
        "input_tensor = torch.tensor(input_sequences).to(device)\n",
        "target_tensor = torch.tensor(target_sequences).to(device)\n",
        "\n",
        "# Initialize the model, loss function, and optimizer\n",
        "model = TinyGPT(vocab_size=vocab_size, d_model=16, num_heads=2).to(device)\n",
        "loss_function = nn.CrossEntropyLoss()\n",
        "optimizer = optim.Adam(model.parameters(), lr=0.001)\n",
        "\n",
        "# Training loop\n",
        "num_epochs = 500\n",
        "train_losses = []\n",
        "for epoch in range(num_epochs):\n",
        "    model.train()  # Set model to training mode\n",
        "    optimizer.zero_grad()\n",
        "\n",
        "    output = model(input_tensor)  # Forward pass\n",
        "    logits = output.view(-1, output.size(-1))  # Reshape logits for loss computation\n",
        "\n",
        "    loss = loss_function(logits, target_tensor.view(-1))\n",
        "    loss.backward()\n",
        "    optimizer.step()\n",
        "\n",
        "    train_losses.append(loss.item())\n",
        "    if epoch % 100 == 0:\n",
        "        print(f'Epoch {epoch}/{num_epochs}, Loss: {loss.item()}')\n",
        "\n",
        "print(\"Training complete!\")"
      ],
      "metadata": {
        "colab": {
          "base_uri": "https://localhost:8080/"
        },
        "id": "KsGTi4PONcD3",
        "outputId": "71dace6f-eb6e-4433-9ce2-9a56322aa6c0"
      },
      "execution_count": 5,
      "outputs": [
        {
          "output_type": "stream",
          "name": "stdout",
          "text": [
            "Epoch 0/500, Loss: 3.1840097904205322\n",
            "Epoch 100/500, Loss: 0.44468265771865845\n",
            "Epoch 200/500, Loss: 0.13384781777858734\n",
            "Epoch 300/500, Loss: 0.06242382526397705\n",
            "Epoch 400/500, Loss: 0.035935234278440475\n",
            "Training complete!\n"
          ]
        }
      ]
    },
    {
      "cell_type": "code",
      "source": [
        "# Plotting training performances\n",
        "import matplotlib.pyplot as plt\n",
        "plt.plot(train_losses, label='Training Loss')\n",
        "plt.xlabel('Epochs')\n",
        "plt.ylabel('Loss')\n",
        "plt.title('Training Loss')\n",
        "plt.legend()\n",
        "plt.show()"
      ],
      "metadata": {
        "colab": {
          "base_uri": "https://localhost:8080/",
          "height": 472
        },
        "id": "0ICSM_ZkZ5Py",
        "outputId": "cde1b167-8d89-4e35-a00e-313c16e3288b"
      },
      "execution_count": 6,
      "outputs": [
        {
          "output_type": "display_data",
          "data": {
            "text/plain": [
              "<Figure size 640x480 with 1 Axes>"
            ],
            "image/png": "[encoded data removed]"
          },
          "metadata": {}
        }
      ]
    },
    {
      "cell_type": "markdown",
      "source": [
        "Finally, use the trained model! In this cell:\n",
        "- Conversion of padded sentences to tensors.\n",
        "- Usage of the `TinyGPT` model to predict next tokens.\n",
        "- Reshaping the model output for further processing.\n",
        "- Extraction of predicted token IDs and conversion back to words.\n",
        "- Displaying original sentences alongside the model's predictions.\n",
        "\n",
        "Remember that it's just a toy model, so the generated text won't makes any sense.\n"
      ],
      "metadata": {
        "id": "I0xFk7bzVdiR"
      }
    },
    {
      "cell_type": "code",
      "source": [
        "# Convert sentences to tensor\n",
        "tokens_tensor = torch.tensor(padded_sentences).to(device)\n",
        "\n",
        "# Use the model\n",
        "model = TinyGPT(vocab_size=vocab_size, d_model=16, num_heads=2).to(device)\n",
        "output = model(tokens_tensor)\n",
        "output = output.view(-1, output.size(-1))\n",
        "\n",
        "# Convert token IDs back to words\n",
        "_, predicted_token_ids = torch.max(output, dim=1)\n",
        "predicted_words = [id2word[id.item()] for id in predicted_token_ids]\n",
        "predicted_sentences = [predicted_words[i:i+max_len] for i in range(0, len(predicted_words), max_len)]\n",
        "\n",
        "for idx, sentence in enumerate(sentences):\n",
        "    print(f\"Original: {sentence}\")\n",
        "    print(f\"Predicted: {' '.join(predicted_sentences[idx])}\\n\")"
      ],
      "metadata": {
        "colab": {
          "base_uri": "https://localhost:8080/"
        },
        "id": "eey5Rv6CP3qd",
        "outputId": "93d0e0b5-639c-4a44-e859-06dde0b5225e"
      },
      "execution_count": 7,
      "outputs": [
        {
          "output_type": "stream",
          "name": "stdout",
          "text": [
            "Original: Hello world\n",
            "Predicted: Tiny popular learning BERT transformer\n",
            "\n",
            "Original: Machine learning is fun\n",
            "Predicted: transformer cute models cute transformer\n",
            "\n",
            "Original: Tiny models are cute\n",
            "Predicted: cute world learning cute transformer\n",
            "\n",
            "Original: GPT is a transformer model\n",
            "Predicted: BERT BERT cute learning a\n",
            "\n",
            "Original: BERT and GPT are popular\n",
            "Predicted: cute BERT BERT BERT are\n",
            "\n"
          ]
        }
      ]
    },
    {
      "cell_type": "code",
      "source": [],
      "metadata": {
        "id": "mItBdTnWQGwi"
      },
      "execution_count": 7,
      "outputs": []
    }
  ]
}
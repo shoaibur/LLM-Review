{
  "nbformat": 4,
  "nbformat_minor": 0,
  "metadata": {
    "colab": {
      "provenance": []
    },
    "kernelspec": {
      "name": "python3",
      "display_name": "Python 3"
    },
    "language_info": {
      "name": "python"
    },
    "accelerator": "TPU"
  },
  "cells": [
    {
      "cell_type": "markdown",
      "source": [
        "**Select TPU or GPU**\n",
        "\n",
        "Here, I used TPU from Google Colab. Set the runtime type from: `Runtime > Change runtime type > TPU`"
      ],
      "metadata": {
        "id": "GI0L9LfFNdgx"
      }
    },
    {
      "cell_type": "markdown",
      "source": [
        "**Setup**\n",
        "- Mount the notebook to Google Drive: `%cd /content/drive/MyDrive/`\n",
        "- Download SQUAD data.\n",
        "- Install required packages"
      ],
      "metadata": {
        "id": "hwfmwfi8W5au"
      }
    },
    {
      "cell_type": "code",
      "source": [
        "%cd /content/drive/MyDrive/\n",
        "\n",
        "!mkdir squad\n",
        "!wget -q https://rajpurkar.github.io/SQuAD-explorer/dataset/train-v2.0.json -O squad/train-v2.0.json\n",
        "!wget -q https://rajpurkar.github.io/SQuAD-explorer/dataset/dev-v2.0.json -O squad/dev-v2.0.json\n",
        "\n",
        "!pip install -q -U transformers transformers[torch] accelerate\n",
        "\n",
        "# For TPU\n",
        "!pip install -q -U cloud-tpu-client==0.10 torch==2.0.0 torchvision==0.15.1 https://storage.googleapis.com/tpu-pytorch/wheels/colab/torch_xla-2.0-cp310-cp310-linux_x86_64.whl\n",
        "\n",
        "# For GPU\n",
        "#!pip install -q -U cloud-tpu-client==0.10 torch==2.0.0  torchvision==0.15.1 https://storage.googleapis.com/tpu-pytorch/wheels/cuda/117/torch_xla-2.0-cp39-cp39-linux_x86_64.whl --force-reinstall"
      ],
      "metadata": {
        "colab": {
          "base_uri": "https://localhost:8080/"
        },
        "id": "2DP3N8Xp4pVi",
        "outputId": "042e1b0b-2cc5-4d0e-d3b3-aaccd44cbeb5"
      },
      "execution_count": 1,
      "outputs": [
        {
          "output_type": "stream",
          "name": "stdout",
          "text": [
            "/content/drive/MyDrive\n",
            "mkdir: cannot create directory ‘squad’: File exists\n"
          ]
        }
      ]
    },
    {
      "cell_type": "markdown",
      "source": [
        "**Imports**"
      ],
      "metadata": {
        "id": "9odNgtDaXYSr"
      }
    },
    {
      "cell_type": "code",
      "source": [
        "import json\n",
        "import torch\n",
        "import torch_xla\n",
        "import torch_xla.core.xla_model as xm\n",
        "from torch.utils.data import Dataset\n",
        "from transformers import TrainingArguments, Trainer, GPT2LMHeadModel, GPT2Tokenizer, AutoTokenizer"
      ],
      "metadata": {
        "id": "SeZOa9_JK3aK"
      },
      "execution_count": 2,
      "outputs": []
    },
    {
      "cell_type": "markdown",
      "source": [
        "**Load Data**"
      ],
      "metadata": {
        "id": "PKx3QIXVXflA"
      }
    },
    {
      "cell_type": "code",
      "source": [
        "def get_data(filepath):\n",
        "    \"\"\"Retrieve questions, answers, and contexts from the given SQuAD filepath.\"\"\"\n",
        "    with open(filepath, 'rb') as f:\n",
        "        squad = json.load(f)\n",
        "\n",
        "    questions, answers, contexts, start_positions, end_positions = [], [], [], [], []\n",
        "    for data in squad[\"data\"]:\n",
        "        for paragraph in data[\"paragraphs\"]:\n",
        "            context = paragraph[\"context\"]\n",
        "            for qa in paragraph[\"qas\"]:\n",
        "                question = qa[\"question\"]\n",
        "                for answer in qa[\"answers\"]:\n",
        "                    questions.append(question)\n",
        "                    answers.append(answer[\"text\"])\n",
        "                    contexts.append(context)\n",
        "                    start_positions.append(answer[\"answer_start\"])\n",
        "                    end_positions.append(answer[\"answer_start\"] + len(answer[\"text\"]))\n",
        "    return questions, answers, contexts, start_positions, end_positions\n",
        "\n",
        "tr_questions, tr_answers, tr_contexts, tr_start_positions, tr_end_positions = get_data(\"squad/train-v2.0.json\")\n",
        "vl_questions, vl_answers, vl_contexts, vl_start_positions, vl_end_positions = get_data(\"squad/dev-v2.0.json\")\n"
      ],
      "metadata": {
        "id": "mPbqVafQLAAF"
      },
      "execution_count": 3,
      "outputs": []
    },
    {
      "cell_type": "markdown",
      "source": [
        "**Setup Model**"
      ],
      "metadata": {
        "id": "J2oL8Az5XlAv"
      }
    },
    {
      "cell_type": "code",
      "source": [
        "# device = torch.device(\"cuda\" if torch.cuda.is_available() else \"cpu\")\n",
        "device = xm.xla_device()\n",
        "\n",
        "model_name = \"gpt2\"\n",
        "model = GPT2LMHeadModel.from_pretrained(model_name)\n",
        "model.to(device)\n",
        "\n",
        "# tokenizer = GPT2Tokenizer.from_pretrained(model_name)\n",
        "tokenizer = AutoTokenizer.from_pretrained(model_name)\n",
        "tokenizer.pad_token = tokenizer.eos_token"
      ],
      "metadata": {
        "id": "AQ5pds-VLFED"
      },
      "execution_count": 4,
      "outputs": []
    },
    {
      "cell_type": "markdown",
      "source": [
        "**Process Data**"
      ],
      "metadata": {
        "id": "jfXtAIHAXpda"
      }
    },
    {
      "cell_type": "code",
      "source": [
        "# Merge question and context, and set up the model to generate the answer\n",
        "merged_texts = [\"Question: \" + q + \" Context: \" + c for q, c in zip(tr_questions[:100], tr_contexts[:100])]\n",
        "tr_tokens = tokenizer(merged_texts, return_tensors=\"pt\", padding='max_length', truncation=True, max_length=512)\n",
        "labels = tokenizer(tr_answers[:100], return_tensors=\"pt\", padding='max_length', truncation=True, max_length=512).input_ids\n",
        "tr_tokens['labels'] = labels\n",
        "\n",
        "\n",
        "merged_texts = [\"Question: \" + q + \" Context: \" + c for q, c in zip(vl_questions[:10], vl_contexts[:10])]\n",
        "vl_tokens = tokenizer(merged_texts, return_tensors=\"pt\", padding='max_length', truncation=True, max_length=512)\n",
        "labels = tokenizer(tr_answers[:10], return_tensors=\"pt\", padding='max_length', truncation=True, max_length=512).input_ids\n",
        "vl_tokens['labels'] = labels"
      ],
      "metadata": {
        "id": "_txOXrmcLHJV"
      },
      "execution_count": 5,
      "outputs": []
    },
    {
      "cell_type": "code",
      "source": [
        "class CustomDataset(Dataset):\n",
        "    def __init__(self, encodings):\n",
        "        self.encodings = encodings\n",
        "\n",
        "    def __getitem__(self, idx):\n",
        "        item = {key: torch.tensor(val[idx]) for key, val in self.encodings.items()}\n",
        "        return item\n",
        "\n",
        "    def __len__(self):\n",
        "        return len(self.encodings['input_ids'])\n",
        "\n",
        "# Create datasets\n",
        "train_dataset = CustomDataset(tr_tokens)\n",
        "valid_dataset = CustomDataset(vl_tokens)"
      ],
      "metadata": {
        "id": "l2ZdoqCSLL_Q"
      },
      "execution_count": 6,
      "outputs": []
    },
    {
      "cell_type": "markdown",
      "source": [
        "**Training**"
      ],
      "metadata": {
        "id": "QyuBeUsgXxpU"
      }
    },
    {
      "cell_type": "code",
      "source": [
        "# Training parameters\n",
        "output_folder = model_name\n",
        "num_train_epochs = 5\n",
        "train_batch_size = 4\n",
        "steps_per_epoch = len(train_dataset) // train_batch_size\n",
        "\n",
        "training_args = TrainingArguments(\n",
        "    output_dir=f\"./{output_folder}/results\",\n",
        "    num_train_epochs=num_train_epochs,\n",
        "    per_device_train_batch_size=train_batch_size,\n",
        "    logging_dir=f\"./{output_folder}/logs\",\n",
        "    logging_steps=steps_per_epoch,    # Log at the end of each epoch\n",
        "    evaluation_strategy=\"epoch\",\n",
        ")\n",
        "\n",
        "trainer = Trainer(\n",
        "    model=model,\n",
        "    args=training_args,\n",
        "    train_dataset=train_dataset,\n",
        "    eval_dataset=valid_dataset,\n",
        ")\n",
        "\n",
        "# Fine-tune the model\n",
        "trainer.train()\n"
      ],
      "metadata": {
        "colab": {
          "base_uri": "https://localhost:8080/",
          "height": 341
        },
        "id": "l7Nmwj0j4caK",
        "outputId": "e1f706d4-6de6-4314-b877-e3f35636298a"
      },
      "execution_count": 7,
      "outputs": [
        {
          "output_type": "stream",
          "name": "stderr",
          "text": [
            "<ipython-input-6-c32b080c291b>:6: UserWarning: To copy construct from a tensor, it is recommended to use sourceTensor.clone().detach() or sourceTensor.clone().detach().requires_grad_(True), rather than torch.tensor(sourceTensor).\n",
            "  item = {key: torch.tensor(val[idx]) for key, val in self.encodings.items()}\n"
          ]
        },
        {
          "output_type": "display_data",
          "data": {
            "text/plain": [
              "<IPython.core.display.HTML object>"
            ],
            "text/html": [
              "\n",
              "    <div>\n",
              "      \n",
              "      <progress value='125' max='125' style='width:300px; height:20px; vertical-align: middle;'></progress>\n",
              "      [125/125 00:40, Epoch 5/5]\n",
              "    </div>\n",
              "    <table border=\"1\" class=\"dataframe\">\n",
              "  <thead>\n",
              " <tr style=\"text-align: left;\">\n",
              "      <th>Epoch</th>\n",
              "      <th>Training Loss</th>\n",
              "      <th>Validation Loss</th>\n",
              "    </tr>\n",
              "  </thead>\n",
              "  <tbody>\n",
              "    <tr>\n",
              "      <td>1</td>\n",
              "      <td>0.940700</td>\n",
              "      <td>0.043123</td>\n",
              "    </tr>\n",
              "    <tr>\n",
              "      <td>2</td>\n",
              "      <td>0.039800</td>\n",
              "      <td>0.034073</td>\n",
              "    </tr>\n",
              "    <tr>\n",
              "      <td>3</td>\n",
              "      <td>0.035700</td>\n",
              "      <td>0.030353</td>\n",
              "    </tr>\n",
              "    <tr>\n",
              "      <td>4</td>\n",
              "      <td>0.032700</td>\n",
              "      <td>0.028327</td>\n",
              "    </tr>\n",
              "    <tr>\n",
              "      <td>5</td>\n",
              "      <td>0.030800</td>\n",
              "      <td>0.027835</td>\n",
              "    </tr>\n",
              "  </tbody>\n",
              "</table><p>"
            ]
          },
          "metadata": {}
        },
        {
          "output_type": "execute_result",
          "data": {
            "text/plain": [
              "TrainOutput(global_step=125, training_loss=0.21592948722839356, metrics={'train_runtime': 41.2214, 'train_samples_per_second': 12.13, 'train_steps_per_second': 3.032, 'total_flos': 130646016000000.0, 'train_loss': 0.21592948722839356, 'epoch': 5.0})"
            ]
          },
          "metadata": {},
          "execution_count": 7
        }
      ]
    },
    {
      "cell_type": "markdown",
      "source": [
        "**Visualize Training and Validation Errors**"
      ],
      "metadata": {
        "id": "_TfKXPhkX1ND"
      }
    },
    {
      "cell_type": "code",
      "source": [
        "import os\n",
        "import tensorflow as tf\n",
        "from tensorboard.backend.event_processing.event_accumulator import EventAccumulator\n",
        "import matplotlib.pyplot as plt\n",
        "\n",
        "log_dir = f\"./{output_folder}/logs\"  # Adjust if your log directory is different\n",
        "log_files = [file for file in os.listdir(log_dir) if 'tfevents' in file]\n",
        "\n",
        "training_losses = []\n",
        "validation_losses = []\n",
        "\n",
        "# Assuming just one event file, you can loop through or modify this if there are more\n",
        "event_acc = EventAccumulator(os.path.join(log_dir, log_files[0]))\n",
        "event_acc.Reload()\n",
        "\n",
        "# available_keys = event_acc.Tags()['scalars']\n",
        "# print(available_keys)\n",
        "\n",
        "# Extract training and validation losses\n",
        "for event in event_acc.Scalars('train/loss'):\n",
        "    training_losses.append(event.value)\n",
        "\n",
        "for event in event_acc.Scalars('eval/loss'):\n",
        "    validation_losses.append(event.value)\n",
        "\n",
        "plt.figure(figsize=(12, 6))\n",
        "plt.plot(training_losses, label=\"Training Loss\")\n",
        "plt.plot(validation_losses, label=\"Validation Loss\", linestyle=\"--\")\n",
        "plt.xlabel(\"Epoch\")\n",
        "plt.ylabel(\"Loss\")\n",
        "plt.legend()\n",
        "plt.title(\"Training & Validation Losses\")\n",
        "plt.show()"
      ],
      "metadata": {
        "colab": {
          "base_uri": "https://localhost:8080/",
          "height": 602
        },
        "id": "7om5T2as4buS",
        "outputId": "248a65d4-ec45-4d7c-d8b9-d0b0d6b0efc5"
      },
      "execution_count": 8,
      "outputs": [
        {
          "output_type": "stream",
          "name": "stdout",
          "text": [
            "['train/loss', 'train/learning_rate', 'train/epoch', 'eval/loss', 'eval/runtime', 'eval/samples_per_second', 'eval/steps_per_second', 'train/train_runtime', 'train/train_samples_per_second', 'train/train_steps_per_second', 'train/total_flos', 'train/train_loss']\n"
          ]
        },
        {
          "output_type": "display_data",
          "data": {
            "text/plain": [
              "<Figure size 1200x600 with 1 Axes>"
            ],
            "image/png": "[encoded data removed]"
          },
          "metadata": {}
        }
      ]
    },
    {
      "cell_type": "markdown",
      "source": [
        "**Save Model and Tokenizer**"
      ],
      "metadata": {
        "id": "5uQbY_kRX7sj"
      }
    },
    {
      "cell_type": "code",
      "source": [
        "# Save model and tokenizer\n",
        "model_save_path = f\"./{output_folder}/models\"\n",
        "tokenizer_save_path = f\"./{output_folder}/tokenizer\"\n",
        "\n",
        "model.save_pretrained(model_save_path)\n",
        "tokenizer.save_pretrained(tokenizer_save_path)\n"
      ],
      "metadata": {
        "colab": {
          "base_uri": "https://localhost:8080/"
        },
        "id": "smDhI-nwCSql",
        "outputId": "79111283-0239-4d4a-9622-a80d2d45d8d9"
      },
      "execution_count": 9,
      "outputs": [
        {
          "output_type": "execute_result",
          "data": {
            "text/plain": [
              "('./gpt2/tokenizer/tokenizer_config.json',\n",
              " './gpt2/tokenizer/special_tokens_map.json',\n",
              " './gpt2/tokenizer/vocab.json',\n",
              " './gpt2/tokenizer/merges.txt',\n",
              " './gpt2/tokenizer/added_tokens.json',\n",
              " './gpt2/tokenizer/tokenizer.json')"
            ]
          },
          "metadata": {},
          "execution_count": 9
        }
      ]
    },
    {
      "cell_type": "markdown",
      "source": [
        "**Load Model and Tokenizer**"
      ],
      "metadata": {
        "id": "-QX3AgobYArh"
      }
    },
    {
      "cell_type": "code",
      "source": [
        "# Load saved model and tokenizer\n",
        "loaded_model = GPT2LMHeadModel.from_pretrained(model_save_path)\n",
        "loaded_tokenizer = AutoTokenizer.from_pretrained(tokenizer_save_path)"
      ],
      "metadata": {
        "id": "f5SChqdoROhl"
      },
      "execution_count": 10,
      "outputs": []
    },
    {
      "cell_type": "markdown",
      "source": [
        "**Generate Response using the Fine-tuned Model**"
      ],
      "metadata": {
        "id": "t9BR7lYBYMNh"
      }
    },
    {
      "cell_type": "code",
      "source": [
        "import torch_xla.core.xla_model as xm\n",
        "\n",
        "device = xm.xla_device()\n",
        "loaded_model = loaded_model.to(device)\n",
        "\n",
        "def generate_response(question, context):\n",
        "    # Combine the question and context\n",
        "    input_text = \"Answer the following: \" + question + \" Given that, \" + context\n",
        "\n",
        "    # Tokenize the input text\n",
        "    input_ids = loaded_tokenizer.encode(input_text, return_tensors=\"pt\")\n",
        "\n",
        "    # Move input_ids to the TPU device\n",
        "    input_ids = input_ids.to(device)\n",
        "\n",
        "    # Generate a response with the model\n",
        "    output = loaded_model.generate(input_ids,\n",
        "                                   max_length=512,\n",
        "                                   num_return_sequences=1,\n",
        "                                   pad_token_id=loaded_tokenizer.eos_token_id,\n",
        "                                   top_k=50)\n",
        "\n",
        "    # Decode and return the model's output\n",
        "    response = loaded_tokenizer.decode(output[0], skip_special_tokens=True)\n",
        "    response = response[(len(input_text)-len(context)):]\n",
        "    return response"
      ],
      "metadata": {
        "id": "v_wz5K8JRz0f"
      },
      "execution_count": 32,
      "outputs": []
    },
    {
      "cell_type": "markdown",
      "source": [
        "**Use the function to get a response**"
      ],
      "metadata": {
        "id": "q4j0fnArYIaf"
      }
    },
    {
      "cell_type": "code",
      "source": [
        "question = \"What is the capital of France?\"\n",
        "context = \"The capital of France is Paris, a major European city and a global center for art, fashion, and culture.\"\n",
        "print(generate_response(question, context))"
      ],
      "metadata": {
        "colab": {
          "base_uri": "https://localhost:8080/"
        },
        "id": "6YNOUnhmUrxj",
        "outputId": "ba92ff06-5d53-44ea-d1ed-e83a55e89b7c"
      },
      "execution_count": 33,
      "outputs": [
        {
          "output_type": "stream",
          "name": "stdout",
          "text": [
            "The capital of France is Paris, a major European city and a global center for art, fashion, and culture.\n"
          ]
        }
      ]
    },
    {
      "cell_type": "code",
      "source": [],
      "metadata": {
        "id": "hW4O-eiWWduE"
      },
      "execution_count": null,
      "outputs": []
    }
  ]
}
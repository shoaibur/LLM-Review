{
  "nbformat": 4,
  "nbformat_minor": 0,
  "metadata": {
    "colab": {
      "provenance": [],
      "gpuType": "T4"
    },
    "kernelspec": {
      "name": "python3",
      "display_name": "Python 3"
    },
    "language_info": {
      "name": "python"
    },
    "accelerator": "GPU"
  },
  "cells": [
    {
      "cell_type": "markdown",
      "source": [
        "**Advantage of fine-tuning:**\n",
        "- It is task-specific!\n",
        "- It is domain-specific!\n",
        "- Fine-tuning with contrastive learning makes the embeddings space more efficient for similarity computations. This type of learning/loss function encourages the model to generate embeddings that are similar to each other, while dissimilar items become further apart in the embedding space.\n",
        "- Original model may contain some unnecessary dimensions that can hurt the performance for specified task. Fine-tuning helps the model to emphasize on the dimensions that are more relevant for similarity computations.\n",
        "\n",
        "**Note:**\n",
        "I used Google Colab for the demo. Setup the accordingly:\n",
        "Mount the notebook to Google Drive and change the runtime type to GPU."
      ],
      "metadata": {
        "id": "4p35KO5bl6z3"
      }
    },
    {
      "cell_type": "code",
      "source": [
        "%cd /content/drive/MyDrive/"
      ],
      "metadata": {
        "colab": {
          "base_uri": "https://localhost:8080/"
        },
        "id": "lc5kJfXVllw1",
        "outputId": "497d52cb-7bb4-4baf-fbf5-ad4aac669102"
      },
      "execution_count": 1,
      "outputs": [
        {
          "output_type": "stream",
          "name": "stdout",
          "text": [
            "/content/drive/MyDrive\n"
          ]
        }
      ]
    },
    {
      "cell_type": "code",
      "source": [
        "# Runtime > Change runtime type > GPU\n",
        "!pip install -q -U accelerate transformers torch torchvision\n",
        "\n",
        "# If running on TPU:\n",
        "# Runtime > Change runtime type > TPU\n",
        "# !pip install -q -U cloud-tpu-client https://storage.googleapis.com/tpu-pytorch/wheels/colab/torch_xla-2.0-cp310-cp310-linux_x86_64.whl"
      ],
      "metadata": {
        "id": "JzngrcTHHxr4"
      },
      "execution_count": 2,
      "outputs": []
    },
    {
      "cell_type": "code",
      "source": [
        "import numpy as np\n",
        "import torch\n",
        "import torch.nn as nn\n",
        "from torch.optim import AdamW\n",
        "from torch.optim.lr_scheduler import StepLR, ExponentialLR\n",
        "from torch.utils.data import DataLoader, Dataset\n",
        "from transformers import BertTokenizer, BertModel, BertPreTrainedModel\n",
        "from sklearn.model_selection import train_test_split\n",
        "from sklearn.metrics.pairwise import cosine_similarity\n",
        "# import torch_xla\n",
        "# import torch_xla.core.xla_model as xm"
      ],
      "metadata": {
        "id": "4YmP6W80P9Nw"
      },
      "execution_count": 3,
      "outputs": []
    },
    {
      "cell_type": "code",
      "source": [
        "# Set seed for reproducibility\n",
        "seed_value = 0\n",
        "torch.manual_seed(seed_value)\n",
        "np.random.seed(seed_value)"
      ],
      "metadata": {
        "id": "-AF3EF5URamM"
      },
      "execution_count": 4,
      "outputs": []
    },
    {
      "cell_type": "markdown",
      "source": [
        "**Define classes and functions**"
      ],
      "metadata": {
        "id": "2N_rxMu6UOSy"
      }
    },
    {
      "cell_type": "code",
      "source": [
        "class DocumentDataset(Dataset):\n",
        "    def __init__(self, documents, tokenizer, max_length=512):\n",
        "        self.documents = documents\n",
        "        self.tokenizer = tokenizer\n",
        "        self.max_length = max_length\n",
        "\n",
        "    def __len__(self):\n",
        "        return len(self.documents)\n",
        "\n",
        "    def __getitem__(self, index):\n",
        "        return self.tokenizer(self.documents[index], truncation=True, padding='max_length', max_length=self.max_length, return_tensors=\"pt\")\n",
        "\n",
        "class DocRecModel(BertPreTrainedModel):\n",
        "    def __init__(self, config):\n",
        "        super(DocRecModel, self).__init__(config)\n",
        "        self.bert = BertModel(config)\n",
        "\n",
        "    def forward(self, input_ids, attention_mask):\n",
        "        outputs = self.bert(input_ids, attention_mask)\n",
        "        # Use the CLS token representation as the document embedding\n",
        "        return outputs.pooler_output\n",
        "\n",
        "def contrastive_loss(embeddings, margin=1.0):\n",
        "    # Pairwise distance matrix\n",
        "    dist_matrix = torch.cdist(embeddings, embeddings, p=2.0)\n",
        "    positive_mask = torch.eye(dist_matrix.size(0)).to(embeddings.device)\n",
        "\n",
        "    positive_distances = dist_matrix * positive_mask\n",
        "    negative_distances = dist_matrix * (1 - positive_mask)\n",
        "\n",
        "    # Only consider non-zero distances for the positive pairs\n",
        "    positive_distances = positive_distances[positive_distances > 0]\n",
        "\n",
        "    # Loss for pushing negative pairs away\n",
        "    negative_loss = torch.clamp(margin - negative_distances, min=0.0)\n",
        "\n",
        "    # Sum the losses\n",
        "    loss = positive_distances.sum() + negative_loss.sum()\n",
        "    return loss"
      ],
      "metadata": {
        "id": "QoB8j4KZQCBw"
      },
      "execution_count": 5,
      "outputs": []
    },
    {
      "cell_type": "markdown",
      "source": [
        "**Configure model and optimizer**"
      ],
      "metadata": {
        "id": "Evm3Os_pUS8b"
      }
    },
    {
      "cell_type": "code",
      "source": [
        "device = torch.device(\"cuda\" if torch.cuda.is_available() else \"cpu\")\n",
        "# device = xm.xla_device()\n",
        "\n",
        "# Load BERT tokenizer and model\n",
        "model_name = \"bert-base-uncased\"\n",
        "tokenizer = BertTokenizer.from_pretrained(model_name)\n",
        "model = DocRecModel.from_pretrained(model_name)\n",
        "model.to(device)\n",
        "\n",
        "optimizer = AdamW(model.parameters(), lr=1e-4, weight_decay=0.01)\n",
        "# scheduler = StepLR(optimizer, step_size=30, gamma=0.1)\n",
        "# scheduler = ExponentialLR(optimizer, gamma=0.95)"
      ],
      "metadata": {
        "id": "OrRoa1_SQD_c"
      },
      "execution_count": 6,
      "outputs": []
    },
    {
      "cell_type": "markdown",
      "source": [
        "**Data Preprocessing**"
      ],
      "metadata": {
        "id": "4tNuCck2UaJ7"
      }
    },
    {
      "cell_type": "code",
      "source": [
        "# Sample documents\n",
        "documents = [\n",
        "    \"Data privacy regulations mandate that all user information be stored securely.\",\n",
        "    \"Entities must ensure GDPR compliance when operating within European Union boundaries.\",\n",
        "    \"All customer data breaches must be reported to the regulatory authority within 72 hours.\",\n",
        "    \"User consent is crucial before collecting or processing any personal data.\",\n",
        "    \"Regular audits of data storage and processing systems are required to ensure privacy compliance.\",\n",
        "    \"Children’s online data requires additional protective measures as per the COPPA regulations.\",\n",
        "    \"Any sale or transfer of personal data must be transparent and approved by the user.\",\n",
        "    \"Privacy policies must be written in clear and understandable language, avoiding any legal jargons.\",\n",
        "    \"Companies must provide options for users to opt-out of data collection procedures.\",\n",
        "    \"Deleting user data upon request is mandatory as per the right to be forgotten under GDPR.\",\n",
        "]\n",
        "\n",
        "# Split the documents into training and validation sets (80-20 split for demonstration)\n",
        "train_docs, val_docs = train_test_split(documents, test_size=0.2, random_state=seed_value)\n",
        "\n",
        "train_dataset = DocumentDataset(train_docs, tokenizer)\n",
        "val_dataset = DocumentDataset(val_docs, tokenizer)\n",
        "\n",
        "train_dataloader = DataLoader(train_dataset, batch_size=8, shuffle=True)\n",
        "val_dataloader = DataLoader(val_dataset, batch_size=8, shuffle=False)"
      ],
      "metadata": {
        "id": "zMvwF_2KQRUY"
      },
      "execution_count": 7,
      "outputs": []
    },
    {
      "cell_type": "markdown",
      "source": [
        "**Model Training**"
      ],
      "metadata": {
        "id": "U2Sm1gBGUf_K"
      }
    },
    {
      "cell_type": "code",
      "source": [
        "# Storage for losses\n",
        "train_losses = []\n",
        "val_losses = []\n",
        "\n",
        "num_epochs = 10\n",
        "for epoch in range(num_epochs):\n",
        "    model.train()\n",
        "    total_train_loss = 0\n",
        "    for batch in train_dataloader:\n",
        "        input_ids = batch[\"input_ids\"].squeeze().to(device)\n",
        "        attention_mask = batch[\"attention_mask\"].squeeze().to(device)\n",
        "\n",
        "        embeddings = model(input_ids, attention_mask)\n",
        "        embeddings = embeddings / torch.norm(embeddings, dim=1, keepdim=True)\n",
        "        loss = contrastive_loss(embeddings) / input_ids.shape[0]\n",
        "\n",
        "        optimizer.zero_grad()\n",
        "        loss.backward()\n",
        "        optimizer.step()\n",
        "\n",
        "        total_train_loss += loss.item()\n",
        "\n",
        "    avg_train_loss = total_train_loss / len(train_dataloader)\n",
        "    train_losses.append(avg_train_loss)\n",
        "\n",
        "    # Validate\n",
        "    model.eval()\n",
        "    total_val_loss = 0\n",
        "    with torch.no_grad():\n",
        "        for batch in val_dataloader:\n",
        "            input_ids = batch[\"input_ids\"].squeeze().to(device)\n",
        "            attention_mask = batch[\"attention_mask\"].squeeze().to(device)\n",
        "\n",
        "            embeddings = model(input_ids, attention_mask)\n",
        "            embeddings = embeddings / torch.norm(embeddings, dim=1, keepdim=True)\n",
        "            loss = contrastive_loss(embeddings) / input_ids.shape[0]\n",
        "\n",
        "            total_val_loss += loss.item()\n",
        "\n",
        "    avg_val_loss = total_val_loss / len(val_dataloader)\n",
        "    val_losses.append(avg_val_loss)\n",
        "    # scheduler.step()\n",
        "\n",
        "    print(f\"Epoch {epoch+1}/{num_epochs}, Train Loss: {avg_train_loss}, Val Loss: {avg_val_loss}\")"
      ],
      "metadata": {
        "colab": {
          "base_uri": "https://localhost:8080/"
        },
        "id": "zvqPHmioPoWS",
        "outputId": "e18e2e1c-ef85-43a0-ae5a-3e3a34045cb7"
      },
      "execution_count": 8,
      "outputs": [
        {
          "output_type": "stream",
          "name": "stdout",
          "text": [
            "Epoch 1/10, Train Loss: 5.198032855987549, Val Loss: 1.924437403678894\n",
            "Epoch 2/10, Train Loss: 5.435990333557129, Val Loss: 1.7935789823532104\n",
            "Epoch 3/10, Train Loss: 4.725905895233154, Val Loss: 1.8811826705932617\n",
            "Epoch 4/10, Train Loss: 2.9798812866210938, Val Loss: 1.9759914875030518\n",
            "Epoch 5/10, Train Loss: 2.9070653915405273, Val Loss: 1.9207847118377686\n",
            "Epoch 6/10, Train Loss: 2.6052184104919434, Val Loss: 1.9152939319610596\n",
            "Epoch 7/10, Train Loss: 2.6905624866485596, Val Loss: 1.857225775718689\n",
            "Epoch 8/10, Train Loss: 2.735429286956787, Val Loss: 1.8114453554153442\n",
            "Epoch 9/10, Train Loss: 2.4474430084228516, Val Loss: 1.6781253814697266\n",
            "Epoch 10/10, Train Loss: 2.1042520999908447, Val Loss: 1.7168984413146973\n"
          ]
        }
      ]
    },
    {
      "cell_type": "code",
      "source": [
        "# Plotting training performances\n",
        "import matplotlib.pyplot as plt\n",
        "plt.plot(train_losses, label='Training Loss')\n",
        "plt.plot(val_losses, label='Validation Loss')\n",
        "plt.xlabel('Epochs')\n",
        "plt.ylabel('Loss')\n",
        "plt.title('Training & Validation Loss')\n",
        "plt.legend()\n",
        "plt.show()"
      ],
      "metadata": {
        "colab": {
          "base_uri": "https://localhost:8080/",
          "height": 472
        },
        "id": "b-uV4vxXIlVP",
        "outputId": "bd02f025-15da-4710-8ad6-76655e06940e"
      },
      "execution_count": 9,
      "outputs": [
        {
          "output_type": "display_data",
          "data": {
            "text/plain": [
              "<Figure size 640x480 with 1 Axes>"
            ],
            "image/png": "[encoded data removed]"
          },
          "metadata": {}
        }
      ]
    },
    {
      "cell_type": "code",
      "source": [
        "# Save model and tokenizer\n",
        "output_folder = \"bert_docrec\"\n",
        "model_save_path = f\"./{output_folder}/model/\"\n",
        "tokenizer_save_path = f\"./{output_folder}/tokenizer/\"\n",
        "\n",
        "model.save_pretrained(model_save_path)\n",
        "tokenizer.save_pretrained(tokenizer_save_path)"
      ],
      "metadata": {
        "colab": {
          "base_uri": "https://localhost:8080/"
        },
        "id": "5T5u6uNgPxKg",
        "outputId": "79093311-91c6-4b90-8a30-9ecf0fe5c853"
      },
      "execution_count": 10,
      "outputs": [
        {
          "output_type": "execute_result",
          "data": {
            "text/plain": [
              "('./bert_docrec/tokenizer/tokenizer_config.json',\n",
              " './bert_docrec/tokenizer/special_tokens_map.json',\n",
              " './bert_docrec/tokenizer/vocab.txt',\n",
              " './bert_docrec/tokenizer/added_tokens.json')"
            ]
          },
          "metadata": {},
          "execution_count": 10
        }
      ]
    },
    {
      "cell_type": "code",
      "source": [
        "# Load the saved model and tokenizer\n",
        "tokenizer_tuned = BertTokenizer.from_pretrained(tokenizer_save_path)\n",
        "bert_tuned = DocRecModel.from_pretrained(model_save_path)\n",
        "bert_tuned.to(device)"
      ],
      "metadata": {
        "id": "KAZ3lFTEJ_ua",
        "colab": {
          "base_uri": "https://localhost:8080/"
        },
        "outputId": "2ce0a5f1-b380-4894-f1af-06e51733e568"
      },
      "execution_count": 11,
      "outputs": [
        {
          "output_type": "execute_result",
          "data": {
            "text/plain": [
              "DocRecModel(\n",
              "  (bert): BertModel(\n",
              "    (embeddings): BertEmbeddings(\n",
              "      (word_embeddings): Embedding(30522, 768, padding_idx=0)\n",
              "      (position_embeddings): Embedding(512, 768)\n",
              "      (token_type_embeddings): Embedding(2, 768)\n",
              "      (LayerNorm): LayerNorm((768,), eps=1e-12, elementwise_affine=True)\n",
              "      (dropout): Dropout(p=0.1, inplace=False)\n",
              "    )\n",
              "    (encoder): BertEncoder(\n",
              "      (layer): ModuleList(\n",
              "        (0-11): 12 x BertLayer(\n",
              "          (attention): BertAttention(\n",
              "            (self): BertSelfAttention(\n",
              "              (query): Linear(in_features=768, out_features=768, bias=True)\n",
              "              (key): Linear(in_features=768, out_features=768, bias=True)\n",
              "              (value): Linear(in_features=768, out_features=768, bias=True)\n",
              "              (dropout): Dropout(p=0.1, inplace=False)\n",
              "            )\n",
              "            (output): BertSelfOutput(\n",
              "              (dense): Linear(in_features=768, out_features=768, bias=True)\n",
              "              (LayerNorm): LayerNorm((768,), eps=1e-12, elementwise_affine=True)\n",
              "              (dropout): Dropout(p=0.1, inplace=False)\n",
              "            )\n",
              "          )\n",
              "          (intermediate): BertIntermediate(\n",
              "            (dense): Linear(in_features=768, out_features=3072, bias=True)\n",
              "            (intermediate_act_fn): GELUActivation()\n",
              "          )\n",
              "          (output): BertOutput(\n",
              "            (dense): Linear(in_features=3072, out_features=768, bias=True)\n",
              "            (LayerNorm): LayerNorm((768,), eps=1e-12, elementwise_affine=True)\n",
              "            (dropout): Dropout(p=0.1, inplace=False)\n",
              "          )\n",
              "        )\n",
              "      )\n",
              "    )\n",
              "    (pooler): BertPooler(\n",
              "      (dense): Linear(in_features=768, out_features=768, bias=True)\n",
              "      (activation): Tanh()\n",
              "    )\n",
              "  )\n",
              ")"
            ]
          },
          "metadata": {},
          "execution_count": 11
        }
      ]
    },
    {
      "cell_type": "markdown",
      "source": [
        "**Define a function to get recommendation from the models**"
      ],
      "metadata": {
        "id": "0bQVmH7SVHgV"
      }
    },
    {
      "cell_type": "code",
      "source": [
        "def get_recommendations(query_doc, all_docs, model, tokenizer, top_k=5):\n",
        "    # Encode and get embeddings for the query document\n",
        "    query_encoding = tokenizer(query_doc, truncation=True, padding='max_length', max_length=512, return_tensors=\"pt\").to(device)\n",
        "    query_embedding = model(query_encoding[\"input_ids\"], query_encoding[\"attention_mask\"]).detach().cpu().numpy()\n",
        "    query_embedding = query_embedding.reshape(1, -1) # Ensure it's of shape (1, embedding_dimension)\n",
        "\n",
        "    # Encode and get embeddings for all potential recommendation documents\n",
        "    all_embeddings = []\n",
        "    for doc in all_docs:\n",
        "        doc_encoding = tokenizer(doc, truncation=True, padding='max_length', max_length=512, return_tensors=\"pt\").to(device)\n",
        "        doc_embedding = model(doc_encoding[\"input_ids\"], doc_encoding[\"attention_mask\"]).detach().cpu().numpy()\n",
        "        all_embeddings.append(doc_embedding)\n",
        "    all_embeddings_array = np.vstack(all_embeddings) # Convert list of embeddings to a 2D numpy array\n",
        "\n",
        "    # Compute cosine similarities\n",
        "    similarities = cosine_similarity(query_embedding, all_embeddings_array).squeeze()\n",
        "\n",
        "    # Get indices of top-k documents\n",
        "    recommended_indices = similarities.argsort()[-top_k:][::-1]\n",
        "\n",
        "    return [all_docs[i] for i in recommended_indices]"
      ],
      "metadata": {
        "id": "yJMKRZfqM0eY"
      },
      "execution_count": 12,
      "outputs": []
    },
    {
      "cell_type": "markdown",
      "source": [
        "**Recommendations using fine-tuned BERT**"
      ],
      "metadata": {
        "id": "XesOtcrsVO2d"
      }
    },
    {
      "cell_type": "code",
      "source": [
        "# Example Usage:\n",
        "query_document = \"Under GDPR, how should companies handle user data breaches?\"\n",
        "recommendations = get_recommendations(query_document, documents, bert_tuned, tokenizer_tuned, top_k=5)\n",
        "for i, rec in enumerate(recommendations):\n",
        "  print(rec[:64], \"...\")\n",
        "  print()"
      ],
      "metadata": {
        "id": "dRAE8OEi78D3",
        "colab": {
          "base_uri": "https://localhost:8080/"
        },
        "outputId": "d353ac4b-0f58-486c-95ef-fef5f2182316"
      },
      "execution_count": 13,
      "outputs": [
        {
          "output_type": "stream",
          "name": "stdout",
          "text": [
            "Companies must provide options for users to opt-out of data coll ...\n",
            "\n",
            "Entities must ensure GDPR compliance when operating within Europ ...\n",
            "\n",
            "All customer data breaches must be reported to the regulatory au ...\n",
            "\n",
            "Children’s online data requires additional protective measures a ...\n",
            "\n",
            "Any sale or transfer of personal data must be transparent and ap ...\n",
            "\n"
          ]
        }
      ]
    },
    {
      "cell_type": "markdown",
      "source": [
        "**Recommendations using original base BERT**"
      ],
      "metadata": {
        "id": "hU6sVD2kVXj3"
      }
    },
    {
      "cell_type": "code",
      "source": [
        "bert_base = DocRecModel.from_pretrained(model_name)\n",
        "bert_base.to(device)\n",
        "\n",
        "recommendations = get_recommendations(query_document, documents, bert_base, tokenizer, top_k=5)\n",
        "for i, rec in enumerate(recommendations):\n",
        "  print(rec[:64], \"...\")\n",
        "  print()"
      ],
      "metadata": {
        "id": "OL8lEdas-zW7",
        "colab": {
          "base_uri": "https://localhost:8080/"
        },
        "outputId": "dec4c33e-9fe8-408e-8f4d-c7bacb3d8c02"
      },
      "execution_count": 14,
      "outputs": [
        {
          "output_type": "stream",
          "name": "stdout",
          "text": [
            "Privacy policies must be written in clear and understandable lan ...\n",
            "\n",
            "All customer data breaches must be reported to the regulatory au ...\n",
            "\n",
            "Children’s online data requires additional protective measures a ...\n",
            "\n",
            "Regular audits of data storage and processing systems are requir ...\n",
            "\n",
            "User consent is crucial before collecting or processing any pers ...\n",
            "\n"
          ]
        }
      ]
    },
    {
      "cell_type": "code",
      "source": [],
      "metadata": {
        "id": "M5S2slB-WBag"
      },
      "execution_count": 14,
      "outputs": []
    }
  ]
}